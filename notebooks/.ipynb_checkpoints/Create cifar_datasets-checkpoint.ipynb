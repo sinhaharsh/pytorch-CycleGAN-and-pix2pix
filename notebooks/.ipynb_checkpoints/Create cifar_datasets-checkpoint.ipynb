{
 "cells": [
  {
   "cell_type": "code",
   "execution_count": 4,
   "metadata": {},
   "outputs": [],
   "source": [
    "import os\n",
    "import shutil"
   ]
  },
  {
   "cell_type": "code",
   "execution_count": 2,
   "metadata": {},
   "outputs": [],
   "source": [
    "labels = os.listdir('../datasets/cifar10png/train/')"
   ]
  },
  {
   "cell_type": "code",
   "execution_count": 3,
   "metadata": {},
   "outputs": [
    {
     "data": {
      "text/plain": [
       "['dog',\n",
       " 'cat',\n",
       " 'deer',\n",
       " 'airplane',\n",
       " 'automobile',\n",
       " 'ship',\n",
       " 'horse',\n",
       " 'truck',\n",
       " 'frog',\n",
       " 'bird']"
      ]
     },
     "execution_count": 3,
     "metadata": {},
     "output_type": "execute_result"
    }
   ],
   "source": [
    "labels"
   ]
  },
  {
   "cell_type": "code",
   "execution_count": 6,
   "metadata": {},
   "outputs": [
    {
     "data": {
      "text/plain": [
       "4"
      ]
     },
     "execution_count": 6,
     "metadata": {},
     "output_type": "execute_result"
    }
   ],
   "source": [
    "labels.index('automobile')"
   ]
  },
  {
   "cell_type": "code",
   "execution_count": null,
   "metadata": {},
   "outputs": [],
   "source": [
    "partition = 'train'\n",
    "dataset = 'cifar10'\n",
    "DIR = os.path.join('../datasets/', dataset+'png', partition)\n",
    "OUT_DIR = os.path.join('../datasets/', dataset, partition+'A')\n",
    "for folder in os.listdir(DIR):\n",
    "    input_path = os.path.join(DIR, folder)\n",
    "    for image in os.listdir(input_path):\n",
    "        if image.endswith('.png'):\n",
    "            img_path = os.path.join(input_path, image)\n",
    "            filename, ext = image.split('.')\n",
    "            out_path = os.path.join(OUT_DIR, filename+'_'+str(labels.index(folder))+'.'+ext)\n",
    "            shutil.copy(img_path, out_path)"
   ]
  },
  {
   "cell_type": "code",
   "execution_count": null,
   "metadata": {},
   "outputs": [],
   "source": [
    "partition = 'test'\n",
    "dataset = 'cifar10'\n",
    "DIR = os.path.join('../datasets/', dataset+'png', partition)\n",
    "OUT_DIR = os.path.join('../datasets/', dataset, partition+'A')\n",
    "for folder in os.listdir(DIR):\n",
    "    input_path = os.path.join(DIR, folder)\n",
    "    for image in os.listdir(input_path):\n",
    "        if image.endswith('.png'):\n",
    "            img_path = os.path.join(input_path, image)\n",
    "            filename, ext = image.split('.')\n",
    "            out_path = os.path.join(OUT_DIR, filename+'_'+str(labels.index(folder))+'.'+ext)\n",
    "            shutil.copy(img_path, out_path)"
   ]
  },
  {
   "cell_type": "code",
   "execution_count": null,
   "metadata": {},
   "outputs": [],
   "source": [
    "partition = 'train'\n",
    "dataset = 'cifar100'\n",
    "DIR = os.path.join('../datasets/', dataset+'png', partition)\n",
    "OUT_DIR = os.path.join('../datasets/', dataset, partition+'A')\n",
    "for folder in os.listdir(DIR):\n",
    "    input_path = os.path.join(DIR, folder)\n",
    "    for image in os.listdir(input_path):\n",
    "        if image.endswith('.png'):\n",
    "            img_path = os.path.join(input_path, image)\n",
    "            filename, ext = image.split('.')\n",
    "            out_path = os.path.join(OUT_DIR, filename+'_'+str(labels.index(folder))+'.'+ext)\n",
    "            shutil.copy(img_path, out_path)"
   ]
  },
  {
   "cell_type": "code",
   "execution_count": null,
   "metadata": {},
   "outputs": [],
   "source": [
    "partition = 'test'\n",
    "dataset = 'cifar100'\n",
    "DIR = os.path.join('../datasets/', dataset+'png', partition)\n",
    "OUT_DIR = os.path.join('../datasets/', dataset, partition+'A')\n",
    "for folder in os.listdir(DIR):\n",
    "    input_path = os.path.join(DIR, folder)\n",
    "    for image in os.listdir(input_path):\n",
    "        if image.endswith('.png'):\n",
    "            img_path = os.path.join(input_path, image)\n",
    "            filename, ext = image.split('.')\n",
    "            out_path = os.path.join(OUT_DIR, filename+'_'+str(labels.index(folder))+'.'+ext)\n",
    "            shutil.copy(img_path, out_path)"
   ]
  },
  {
   "cell_type": "code",
   "execution_count": null,
   "metadata": {},
   "outputs": [],
   "source": []
  }
 ],
 "metadata": {
  "kernelspec": {
   "display_name": "Python 3",
   "language": "python",
   "name": "python3"
  },
  "language_info": {
   "codemirror_mode": {
    "name": "ipython",
    "version": 3
   },
   "file_extension": ".py",
   "mimetype": "text/x-python",
   "name": "python",
   "nbconvert_exporter": "python",
   "pygments_lexer": "ipython3",
   "version": "3.7.6"
  }
 },
 "nbformat": 4,
 "nbformat_minor": 4
}
